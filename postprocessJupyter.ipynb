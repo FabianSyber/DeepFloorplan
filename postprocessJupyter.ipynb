{
 "cells": [
  {
   "cell_type": "code",
   "execution_count": 1,
   "metadata": {
    "scrolled": true
   },
   "outputs": [
    {
     "ename": "ImportError",
     "evalue": "cannot import name 'imread' from 'scipy.misc' (E:\\Python\\Anaconda\\lib\\site-packages\\scipy\\misc\\__init__.py)",
     "output_type": "error",
     "traceback": [
      "\u001b[1;31m---------------------------------------------------------------------------\u001b[0m",
      "\u001b[1;31mImportError\u001b[0m                               Traceback (most recent call last)",
      "\u001b[1;32m<ipython-input-1-1f5dcd09fd8a>\u001b[0m in \u001b[0;36m<module>\u001b[1;34m\u001b[0m\n\u001b[0;32m      8\u001b[0m \u001b[1;33m\u001b[0m\u001b[0m\n\u001b[0;32m      9\u001b[0m \u001b[1;32mimport\u001b[0m \u001b[0mnumpy\u001b[0m \u001b[1;32mas\u001b[0m \u001b[0mnp\u001b[0m\u001b[1;33m\u001b[0m\u001b[1;33m\u001b[0m\u001b[0m\n\u001b[1;32m---> 10\u001b[1;33m \u001b[1;32mfrom\u001b[0m \u001b[0mscipy\u001b[0m\u001b[1;33m.\u001b[0m\u001b[0mmisc\u001b[0m \u001b[1;32mimport\u001b[0m \u001b[0mimread\u001b[0m\u001b[1;33m,\u001b[0m \u001b[0mimresize\u001b[0m\u001b[1;33m,\u001b[0m \u001b[0mimsave\u001b[0m\u001b[1;33m\u001b[0m\u001b[1;33m\u001b[0m\u001b[0m\n\u001b[0m\u001b[0;32m     11\u001b[0m \u001b[1;32mfrom\u001b[0m \u001b[0mmatplotlib\u001b[0m \u001b[1;32mimport\u001b[0m \u001b[0mpyplot\u001b[0m \u001b[1;32mas\u001b[0m \u001b[0mplt\u001b[0m\u001b[1;33m\u001b[0m\u001b[1;33m\u001b[0m\u001b[0m\n\u001b[0;32m     12\u001b[0m \u001b[1;33m\u001b[0m\u001b[0m\n",
      "\u001b[1;31mImportError\u001b[0m: cannot import name 'imread' from 'scipy.misc' (E:\\Python\\Anaconda\\lib\\site-packages\\scipy\\misc\\__init__.py)"
     ]
    }
   ],
   "source": [
    "import argparse\n",
    "\n",
    "import os\n",
    "import sys\n",
    "import glob\n",
    "import time\n",
    "import random\n",
    "\n",
    "import numpy as np\n",
    "from scipy.misc import imread, imresize, imsave\n",
    "from matplotlib import pyplot as plt\n",
    "\n",
    "sys.path.append('./utils/')\n",
    "from rgb_ind_convertor import *\n",
    "from util import *\n",
    "\n",
    "parser = argparse.ArgumentParser()\n",
    "\n",
    "parser.add_argument('--result_dir', type=str, default='./out',\n",
    "\t\t\t\t\thelp='The folder that save network predictions.')\n",
    "\n",
    "def post_process(input_dir, save_dir, merge=True):\n",
    "\tif not os.path.exists(save_dir):\n",
    "\t\tos.mkdir(save_dir)\n",
    "\n",
    "\tinput_paths = sorted(glob.glob(os.path.join(input_dir, '*.png')))\n",
    "\tnames = [i.split('\\\\')[-1] for i in input_paths]  \n",
    "\tout_paths = [os.path.join(save_dir, i) for i in names]\n",
    "\n",
    "\tn = len(input_paths)\n",
    "\t# n = 1\n",
    "\tfor i in range(n):\n",
    "\t\tim = imread(input_paths[i], mode='RGB')\n",
    "\t\tim_ind = rgb2ind(im, color_map=floorplan_fuse_map)\n",
    "\t\t# seperate image into room-seg & boundary-seg\n",
    "\t\trm_ind = im_ind.copy()\n",
    "\t\trm_ind[im_ind==9] = 0\n",
    "\t\trm_ind[im_ind==10] = 0\n",
    "\n",
    "\t\tbd_ind = np.zeros(im_ind.shape, dtype=np.uint8)\n",
    "\t\tbd_ind[im_ind==9] = 9\n",
    "\t\tbd_ind[im_ind==10] = 10\n",
    "\n",
    "\t\thard_c = (bd_ind>0).astype(np.uint8)\n",
    "\n",
    "\t\t# region from room prediction it self\n",
    "\t\trm_mask = np.zeros(rm_ind.shape)\n",
    "\t\trm_mask[rm_ind>0] = 1\t\t\t\n",
    "\t\t# region from close_wall line\t\t\n",
    "\t\tcw_mask = hard_c\n",
    "\t\t# refine close wall mask by filling the grap between bright line\t\n",
    "\t\tcw_mask = fill_break_line(cw_mask)\n",
    "\t\t\t\n",
    "\t\tfuse_mask = cw_mask + rm_mask\n",
    "\t\tfuse_mask[fuse_mask>=1] = 255\n",
    "\n",
    "\t\t# refine fuse mask by filling the hole\n",
    "\t\tfuse_mask = flood_fill(fuse_mask)\n",
    "\t\tfuse_mask = fuse_mask // 255\t\n",
    "\n",
    "\t\t# one room one label\n",
    "\t\tnew_rm_ind = refine_room_region(cw_mask, rm_ind)\n",
    "\n",
    "\t\t# ignore the background mislabeling\n",
    "\t\tnew_rm_ind = fuse_mask*new_rm_ind\n",
    "\n",
    "\t\tprint ('Saving {}th refined room prediciton to {}'.format(i, out_paths[i]))\n",
    "\t\tif merge:\n",
    "\t\t\tnew_rm_ind[bd_ind==9] = 9\n",
    "\t\t\tnew_rm_ind[bd_ind==10] = 10\n",
    "\t\t\trgb = ind2rgb(new_rm_ind, color_map=floorplan_fuse_map)\n",
    "\t\telse:\n",
    "\t\t\trgb = ind2rgb(new_rm_ind)\n",
    "\t\timsave(out_paths[i], rgb)\n",
    "\n",
    "if __name__ == '__main__':\n",
    "\tFLAGS, unparsed = parser.parse_known_args()\n",
    "\n",
    "\t#input_dir = FLAGS.result_dir\n",
    "\tinput_dir = 'E:/Tests/4'\n",
    "\tsave_dir = os.path.join(input_dir, 'post')\n",
    "\n",
    "\tpost_process(input_dir, save_dir)\n"
   ]
  },
  {
   "cell_type": "code",
   "execution_count": null,
   "metadata": {},
   "outputs": [],
   "source": []
  }
 ],
 "metadata": {
  "kernelspec": {
   "display_name": "Python 3",
   "language": "python",
   "name": "python3"
  },
  "language_info": {
   "codemirror_mode": {
    "name": "ipython",
    "version": 3
   },
   "file_extension": ".py",
   "mimetype": "text/x-python",
   "name": "python",
   "nbconvert_exporter": "python",
   "pygments_lexer": "ipython3",
   "version": "3.7.3"
  }
 },
 "nbformat": 4,
 "nbformat_minor": 4
}
