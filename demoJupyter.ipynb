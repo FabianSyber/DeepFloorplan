{
 "cells": [
  {
   "cell_type": "code",
   "execution_count": 20,
   "metadata": {},
   "outputs": [
    {
     "name": "stdout",
     "output_type": "stream",
     "text": [
      "(512, 512, 3)\n",
      "INFO:tensorflow:Restoring parameters from ./pretrained/pretrained_r3d\n"
     ]
    },
    {
     "data": {
      "image/png": "[encoded data removed]",
      "text/plain": [
       "<Figure size 432x288 with 2 Axes>"
      ]
     },
     "metadata": {
      "needs_background": "light"
     },
     "output_type": "display_data"
    },
    {
     "name": "stdout",
     "output_type": "stream",
     "text": [
      "done\n"
     ]
    }
   ],
   "source": [
    "import cv2\n",
    "import os\n",
    "import argparse\n",
    "import numpy as np\n",
    "import tensorflow as tf\n",
    "import io\n",
    "import PIL.Image\n",
    "\n",
    "from scipy.misc import imread, imsave, imresize\n",
    "from matplotlib import pyplot as plt\n",
    "\n",
    "os.environ['CUDA_VISIBLE_DEVICES'] = '0'\n",
    "\n",
    "os.environ['TF_CPP_MIN_LOG_LEVEL'] = '2'\n",
    "\n",
    "# input image path\n",
    "parser = argparse.ArgumentParser()\n",
    "\n",
    "parser.add_argument('--im_path', type=str, default='./demo/47541863.jpg',\n",
    "                    help='input image paths.')\n",
    "\n",
    "# color map\n",
    "floorplan_map = {\n",
    "    0: [255,255,255], # background\n",
    "    1: [192,192,224], # closet\n",
    "    2: [192,255,255], # batchroom/washroom\n",
    "    3: [224,255,192], # livingroom/kitchen/dining room\n",
    "    4: [255,224,128], # bedroom\n",
    "    5: [255,160, 96], # hall\n",
    "    6: [255,224,224], # balcony\n",
    "    7: [255,255,255], # not used\n",
    "    8: [255,255,255], # not used\n",
    "    9: [255, 60,128], # door & window\n",
    "    10:[  0,  0,  0]  # wall\n",
    "}\n",
    "\n",
    "def ind2rgb(ind_im, color_map=floorplan_map):\n",
    "    rgb_im = np.zeros((ind_im.shape[0], ind_im.shape[1], 3))\n",
    "\n",
    "    for i, rgb in color_map.items():\n",
    "        rgb_im[(ind_im==i)] = rgb\n",
    "\n",
    "    return rgb_im\n",
    "\n",
    "def main(args):\n",
    "    # load input\n",
    "    im_buf = PIL.Image.open(args.im_path)  \n",
    "    resize = 512,512\n",
    "    \n",
    "    # generating the thumbnail from given size\n",
    "    im_buf.thumbnail(resize, PIL.Image.ANTIALIAS)\n",
    "\n",
    "    offset_x = max((resize[0] - im_buf.size[0]) / 2, 0)\n",
    "    offset_y = max((resize[1] - im_buf.size[1]) / 2, 0)\n",
    "\n",
    "    offset_tuple = (int(offset_x), int(offset_y)) #pack x and y into a tuple\n",
    "\n",
    "    # create the image object to be the final product\n",
    "    im_resized = PIL.Image.new(mode='RGB',size=resize,color=(255, 255, 255))\n",
    "\n",
    "    # paste the thumbnail into the full sized image\n",
    "    im_resized.paste(im_buf, offset_tuple)\n",
    "    \n",
    "    im = np.array(im_resized) / 255.\n",
    "    \n",
    "    print(im.shape)\n",
    "    \n",
    "    # create tensorflow session\n",
    "    with tf.Session() as sess:\n",
    "\n",
    "        # initialize\n",
    "        sess.run(tf.group(tf.global_variables_initializer(),\n",
    "                    tf.local_variables_initializer()))\n",
    "\n",
    "        # restore pretrained model\n",
    "        saver = tf.train.import_meta_graph('./pretrained/pretrained_r3d.meta')\n",
    "        saver.restore(sess, './pretrained/pretrained_r3d')\n",
    "\n",
    "        # get default graph\n",
    "        graph = tf.get_default_graph()\n",
    "\n",
    "        # restore inputs & outpus tensor\n",
    "        x = graph.get_tensor_by_name('inputs:0')\n",
    "        room_type_logit = graph.get_tensor_by_name('Cast:0')\n",
    "        room_boundary_logit = graph.get_tensor_by_name('Cast_1:0')\n",
    "\n",
    "        # infer results\n",
    "        [room_type, room_boundary] = sess.run([room_type_logit, room_boundary_logit],\\\n",
    "                                        feed_dict={x:im.reshape(1,512,512,3)})\n",
    "        room_type, room_boundary = np.squeeze(room_type), np.squeeze(room_boundary)\n",
    "        \n",
    "        # merge results\n",
    "        floorplan = room_type.copy()\n",
    "        floorplan[room_boundary==1] = 9\n",
    "        floorplan[room_boundary==2] = 10\n",
    "        floorplan_rgb = ind2rgb(floorplan)\n",
    "\n",
    "        # plot results\n",
    "        plt.subplot(121)\n",
    "        plt.imshow(im)\n",
    "        plt.subplot(122)\n",
    "        plt.imshow(floorplan_rgb/255.)\n",
    "        plt.show()\n",
    "        print('done')\n",
    "\n",
    "if __name__ == '__main__':\n",
    "    FLAGS, unparsed = parser.parse_known_args()\n",
    "    main(FLAGS)\n"
   ]
  },
  {
   "cell_type": "code",
   "execution_count": null,
   "metadata": {},
   "outputs": [],
   "source": []
  }
 ],
 "metadata": {
  "kernelspec": {
   "display_name": "Python 3",
   "language": "python",
   "name": "python3"
  },
  "language_info": {
   "codemirror_mode": {
    "name": "ipython",
    "version": 3
   },
   "file_extension": ".py",
   "mimetype": "text/x-python",
   "name": "python",
   "nbconvert_exporter": "python",
   "pygments_lexer": "ipython3",
   "version": "3.6.10"
  }
 },
 "nbformat": 4,
 "nbformat_minor": 4
}
